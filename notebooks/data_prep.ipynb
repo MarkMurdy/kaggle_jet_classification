{
 "cells": [
  {
   "cell_type": "code",
   "execution_count": null,
   "id": "f953fa44",
   "metadata": {},
   "outputs": [
    {
     "name": "stdout",
     "output_type": "stream",
     "text": [
      "Obtaining file:///Users/mjmurdy/Documents/UMLZ/TAC-HEP/CoDaS-HEP_2025/jet_kaggle/qcd-tt-jet-tagging-co-da-s-hep/kaggle_jet_classification\n",
      "  Installing build dependencies ... \u001b[?25ldone\n",
      "\u001b[?25h  Checking if build backend supports build_editable ... \u001b[?25ldone\n",
      "\u001b[?25h  Getting requirements to build editable ... \u001b[?25ldone\n",
      "\u001b[?25h  Installing backend dependencies ... \u001b[?25ldone\n",
      "\u001b[?25h  Preparing editable metadata (pyproject.toml) ... \u001b[?25ldone\n",
      "\u001b[?25hINFO: pip is looking at multiple versions of tt-tag to determine which version is compatible with other requirements. This could take a while.\n",
      "\u001b[31mERROR: Package 'tt-tag' requires a different Python: 3.9.17 not in '>=3.13'\u001b[0m\u001b[31m\n",
      "\u001b[0m"
     ]
    }
   ],
   "source": [
    "import tt_tag"
   ]
  },
  {
   "cell_type": "code",
   "execution_count": null,
   "id": "c71515e4",
   "metadata": {},
   "outputs": [],
   "source": []
  }
 ],
 "metadata": {
  "kernelspec": {
   "display_name": "tt-tag",
   "language": "python",
   "name": "tt-tag"
  },
  "language_info": {
   "codemirror_mode": {
    "name": "ipython",
    "version": 3
   },
   "file_extension": ".py",
   "mimetype": "text/x-python",
   "name": "python",
   "nbconvert_exporter": "python",
   "pygments_lexer": "ipython3",
   "version": "3.13.5"
  }
 },
 "nbformat": 4,
 "nbformat_minor": 5
}
